{
 "cells": [
  {
   "cell_type": "markdown",
   "metadata": {},
   "source": [
    "# `python-idb` demo"
   ]
  },
  {
   "cell_type": "code",
   "execution_count": 1,
   "metadata": {},
   "outputs": [],
   "source": [
    "# !git clone https://github.com/williballenthin/python-idb\n",
    "# !pip install ./python-idb"
   ]
  },
  {
   "cell_type": "code",
   "execution_count": 2,
   "metadata": {},
   "outputs": [],
   "source": [
    "import idb"
   ]
  },
  {
   "cell_type": "code",
   "execution_count": 3,
   "metadata": {},
   "outputs": [],
   "source": [
    "from collections import namedtuple\n",
    "import networkx as nx"
   ]
  },
  {
   "cell_type": "code",
   "execution_count": 4,
   "metadata": {},
   "outputs": [],
   "source": [
    "import matplotlib.pyplot as plt\n",
    "%matplotlib inline\n",
    "%config InlineBackend.figure_format='retina'"
   ]
  },
  {
   "cell_type": "markdown",
   "metadata": {},
   "source": [
    "### Loading `write.i64`"
   ]
  },
  {
   "cell_type": "code",
   "execution_count": 5,
   "metadata": {},
   "outputs": [
    {
     "name": "stderr",
     "output_type": "stream",
     "text": [
      "section class not implemented: id2\n"
     ]
    }
   ],
   "source": [
    "with idb.from_file('../packer_example/write.i64') as db:\n",
    "    api = idb.IDAPython(db)"
   ]
  },
  {
   "cell_type": "markdown",
   "metadata": {},
   "source": [
    "#### Print the list of functions"
   ]
  },
  {
   "cell_type": "code",
   "execution_count": 6,
   "metadata": {},
   "outputs": [
    {
     "name": "stdout",
     "output_type": "stream",
     "text": [
      "1000011c8: sub_1000011c8\n",
      "100001238: sub_100001238\n",
      "100001288: sub_100001288\n",
      "1000014cc: sub_1000014cc\n",
      "1000015a4: start\n",
      "1000015d0: __security_check_cookie\n",
      "1000015f8: TopLevelExceptionFilter\n",
      "100001640: sub_100001640\n",
      "10000165e: __C_specific_handler\n",
      "10000166a: _XcptFilter\n",
      "100001680: sub_100001680\n",
      "1000016c0: sub_1000016c0\n",
      "10000170c: sub_10000170c\n",
      "100001754: _initterm\n",
      "100001760: _amsg_exit\n",
      "10000176c: sub_10000176c\n",
      "100001778: sub_100001778\n",
      "1000017d4: sub_1000017d4\n",
      "100001820: sub_100001820\n",
      "1000018dc: __report_gsfailure\n",
      "100001a04: RtlVirtualUnwind\n",
      "100001a10: RtlLookupFunctionEntry\n",
      "100001a1c: sub_100001a1c\n",
      "100001a3e: sub_100001a3e\n"
     ]
    }
   ],
   "source": [
    "for ea in api.idautils.Functions():\n",
    "    print('%x: %s' % (ea, api.idc.GetFunctionName(ea)))"
   ]
  },
  {
   "cell_type": "markdown",
   "metadata": {},
   "source": [
    "#### Print the list of functions and the list of BBs"
   ]
  },
  {
   "cell_type": "code",
   "execution_count": 7,
   "metadata": {},
   "outputs": [],
   "source": [
    "BasicBlock = namedtuple(\"BasicBlock\", [\"va\", \"size\"])\n",
    "\n",
    "def get_basic_blocks(fva, api):\n",
    "    \"\"\"\n",
    "    return sequence of `BasicBlock` instances for given function.\n",
    "    \"\"\"\n",
    "    ret = []\n",
    "    func = api.ida_funcs.get_func(fva)\n",
    "    if func is None:\n",
    "        return ret\n",
    "\n",
    "    for bb in api.idaapi.FlowChart(func):\n",
    "        ret.append(BasicBlock(va=bb.startEA, size=bb.endEA - bb.startEA))\n",
    "\n",
    "    return ret"
   ]
  },
  {
   "cell_type": "code",
   "execution_count": 8,
   "metadata": {
    "scrolled": false
   },
   "outputs": [
    {
     "name": "stderr",
     "output_type": "stream",
     "text": [
      "section class not implemented: id2\n"
     ]
    },
    {
     "name": "stdout",
     "output_type": "stream",
     "text": [
      "\n",
      "1000011c8: sub_1000011c8\n",
      "\t0x1000011c8 - size: 105\n",
      "\n",
      "100001238: sub_100001238\n",
      "\t0x100001238 - size: 73\n",
      "\n",
      "100001288: sub_100001288\n",
      "\t0x100001288 - size: 41\n",
      "\t0x1000012b1 - size: 16\n",
      "\t0x1000012c1 - size: 13\n",
      "\t0x1000012db - size: 13\n",
      "\t0x1000012ce - size: 5\n",
      "\t0x1000012e8 - size: 11\n",
      "\t0x1000012d3 - size: 8\n",
      "\t0x1000012f3 - size: 10\n",
      "\t0x1000012fd - size: 10\n",
      "\t0x100001364 - size: 11\n",
      "\t0x100001307 - size: 35\n",
      "\t0x10000135a - size: 10\n",
      "\t0x10000134c - size: 4\n",
      "\t0x10000136f - size: 29\n",
      "\t0x10000138c - size: 5\n",
      "\t0x10000132a - size: 5\n",
      "\t0x10000132f - size: 4\n",
      "\t0x100001350 - size: 10\n",
      "\t0x100001391 - size: 10\n",
      "\t0x10000139b - size: 9\n",
      "\t0x100001341 - size: 11\n",
      "\t0x100001333 - size: 8\n",
      "\t0x1000014ac - size: 26\n",
      "\t0x1000013a4 - size: 16\n",
      "\t0x1000013c3 - size: 12\n",
      "\t0x10000133b - size: 6\n",
      "\t0x1000014a0 - size: 12\n",
      "\t0x1000013cf - size: 10\n",
      "\t0x10000145c - size: 2\n",
      "\t0x100001498 - size: 8\n",
      "\t0x1000013b4 - size: 15\n",
      "\t0x1000013d9 - size: 12\n",
      "\t0x100001450 - size: 12\n",
      "\t0x100001448 - size: 8\n",
      "\t0x10000147f - size: 16\n",
      "\t0x1000013e5 - size: 6\n",
      "\t0x10000140a - size: 54\n",
      "\t0x10000148f - size: 8\n",
      "\t0x100001471 - size: 14\n",
      "\t0x1000013eb - size: 5\n",
      "\t0x10000145e - size: 6\n",
      "\t0x1000013f4 - size: 5\n",
      "\t0x1000013f9 - size: 6\n",
      "\t0x100001440 - size: 8\n",
      "\t0x100001464 - size: 13\n",
      "\t0x1000013f0 - size: 4\n",
      "\t0x1000013ff - size: 11\n",
      "\n",
      "1000014cc: sub_1000014cc\n",
      "\t0x1000014cc - size: 18\n",
      "\t0x1000014de - size: 4\n",
      "\t0x1000014e2 - size: 25\n",
      "\t0x100001506 - size: 7\n",
      "\t0x100001531 - size: 86\n",
      "\t0x1000014fb - size: 11\n",
      "\t0x10000150d - size: 11\n",
      "\t0x10000152e - size: 3\n",
      "\t0x100001520 - size: 8\n",
      "\t0x100001587 - size: 13\n",
      "\t0x100001594 - size: 7\n",
      "\t0x100001518 - size: 8\n",
      "\t0x100001528 - size: 6\n",
      "\n",
      "1000015a4: start\n",
      "\t0x1000015a4 - size: 18\n",
      "\n",
      "1000015d0: __security_check_cookie\n",
      "\t0x1000015d0 - size: 9\n",
      "\t0x1000015d9 - size: 11\n",
      "\t0x1000015eb - size: 5\n",
      "\t0x1000015e4 - size: 3\n",
      "\t0x1000015e7 - size: 4\n",
      "\n",
      "1000015f8: TopLevelExceptionFilter\n",
      "\t0x1000015f8 - size: 15\n",
      "\t0x100001607 - size: 6\n",
      "\t0x100001633 - size: 7\n",
      "\t0x10000160d - size: 10\n",
      "\t0x100001625 - size: 7\n",
      "\t0x100001617 - size: 7\n",
      "\t0x10000162c - size: 7\n",
      "\t0x10000161e - size: 7\n",
      "\n",
      "100001640: sub_100001640\n",
      "\t0x100001640 - size: 24\n",
      "\n",
      "10000165e: __C_specific_handler\n",
      "\t0x10000165e - size: 6\n",
      "\n",
      "10000166a: _XcptFilter\n",
      "\t0x10000166a - size: 6\n",
      "\n",
      "100001680: sub_100001680\n",
      "\t0x100001680 - size: 13\n",
      "\t0x10000168d - size: 3\n",
      "\t0x100001690 - size: 17\n",
      "\t0x1000016a1 - size: 12\n",
      "\t0x1000016ad - size: 2\n",
      "\n",
      "1000016c0: sub_1000016c0\n",
      "\t0x1000016c0 - size: 33\n",
      "\t0x1000016e1 - size: 8\n",
      "\t0x1000016ff - size: 3\n",
      "\t0x1000016f3 - size: 12\n",
      "\t0x1000016e9 - size: 10\n",
      "\t0x100001702 - size: 4\n",
      "\n",
      "10000170c: sub_10000170c\n",
      "\t0x10000170c - size: 7\n",
      "\t0x100001713 - size: 19\n",
      "\t0x100001726 - size: 19\n",
      "\t0x100001748 - size: 5\n",
      "\t0x100001739 - size: 13\n",
      "\t0x100001746 - size: 2\n",
      "\n",
      "100001754: _initterm\n",
      "\t0x100001754 - size: 6\n",
      "\n",
      "100001760: _amsg_exit\n",
      "\t0x100001760 - size: 6\n",
      "\n",
      "10000176c: sub_10000176c\n",
      "\t0x10000176c - size: 3\n",
      "\n",
      "100001778: sub_100001778\n",
      "\t0x100001778 - size: 11\n",
      "\t0x100001783 - size: 6\n",
      "\t0x1000017c5 - size: 8\n",
      "\t0x100001789 - size: 10\n",
      "\t0x1000017bf - size: 6\n",
      "\t0x1000017bd - size: 2\n",
      "\t0x100001793 - size: 5\n",
      "\t0x1000017a1 - size: 28\n",
      "\t0x100001798 - size: 9\n",
      "\n",
      "1000017d4: sub_1000017d4\n",
      "\t0x1000017d4 - size: 21\n",
      "\t0x1000017e9 - size: 13\n",
      "\t0x100001811 - size: 2\n",
      "\t0x1000017f6 - size: 11\n",
      "\t0x100001805 - size: 12\n",
      "\t0x100001813 - size: 6\n",
      "\t0x100001801 - size: 4\n",
      "\n",
      "100001820: sub_100001820\n",
      "\t0x100001820 - size: 38\n",
      "\t0x100001846 - size: 12\n",
      "\t0x100001852 - size: 118\n",
      "\t0x1000018c8 - size: 11\n",
      "\n",
      "1000018dc: __report_gsfailure\n",
      "\t0x1000018dc - size: 68\n",
      "\t0x100001920 - size: 65\n",
      "\t0x100001961 - size: 34\n",
      "\t0x100001983 - size: 122\n",
      "\n",
      "100001a04: RtlVirtualUnwind\n",
      "\t0x100001a04 - size: 6\n",
      "\n",
      "100001a10: RtlLookupFunctionEntry\n",
      "\t0x100001a10 - size: 6\n",
      "\n",
      "100001a1c: sub_100001a1c\n",
      "\t0x100001a1c - size: 28\n",
      "\n",
      "100001a3e: sub_100001a3e\n",
      "\t0x100001a3e - size: 33\n"
     ]
    }
   ],
   "source": [
    "with idb.from_file('../packer_example/write.i64') as db:\n",
    "    api = idb.IDAPython(db)\n",
    "    for ea in api.idautils.Functions():\n",
    "        print('\\n%x: %s' % (ea, api.idc.GetFunctionName(ea)))\n",
    "        for bb in get_basic_blocks(ea, api):\n",
    "            print(\"\\t{} - size: {}\".format(hex(bb.va), bb.size))"
   ]
  },
  {
   "cell_type": "code",
   "execution_count": 9,
   "metadata": {},
   "outputs": [],
   "source": [
    "def get_function_graph(ea, api):\n",
    "    '''\n",
    "    Convert an IDA flowchart to a NetworkX DiGraph.\n",
    "    It assumes all the BBs are withing the functions'\n",
    "    limits.\n",
    "    '''\n",
    "    nx_graph = nx.DiGraph()\n",
    "    basic_blocks = list()\n",
    "    func = api.ida_funcs.get_func(ea)\n",
    "\n",
    "    flowchart = api.idaapi.FlowChart(func)\n",
    "    \n",
    "    for block in flowchart:\n",
    "\n",
    "        if block.endEA > func.endEA or block.startEA < func.startEA:\n",
    "            continue\n",
    "\n",
    "        nx_graph.add_node(block.startEA)\n",
    "\n",
    "        for pred in block.preds():\n",
    "            if pred.startEA >= func.startEA and pred.endEA <= func.endEA:\n",
    "                nx_graph.add_edge(pred.startEA, block.startEA)\n",
    "\n",
    "        for succ in block.succs():\n",
    "            if succ.startEA >= func.startEA and succ.endEA <= func.endEA:\n",
    "                nx_graph.add_edge(block.startEA, succ.startEA)\n",
    "\n",
    "        basic_blocks.append((block.startEA, block.endEA))\n",
    "\n",
    "    return nx_graph, basic_blocks"
   ]
  },
  {
   "cell_type": "code",
   "execution_count": 10,
   "metadata": {},
   "outputs": [],
   "source": [
    "G, _ = get_function_graph(0x100001778, api)"
   ]
  },
  {
   "cell_type": "code",
   "execution_count": 11,
   "metadata": {},
   "outputs": [
    {
     "data": {
      "text/plain": [
       "['0x100001778',\n",
       " '0x100001783',\n",
       " '0x1000017c5',\n",
       " '0x100001789',\n",
       " '0x1000017bd',\n",
       " '0x1000017bf',\n",
       " '0x100001793',\n",
       " '0x100001798',\n",
       " '0x1000017a1']"
      ]
     },
     "execution_count": 11,
     "metadata": {},
     "output_type": "execute_result"
    }
   ],
   "source": [
    "# Nodes\n",
    "[hex(x) for x in G.nodes()]"
   ]
  },
  {
   "cell_type": "code",
   "execution_count": 12,
   "metadata": {},
   "outputs": [
    {
     "data": {
      "text/plain": [
       "[('0x100001778', '0x100001783'),\n",
       " ('0x100001778', '0x1000017c5'),\n",
       " ('0x100001783', '0x100001789'),\n",
       " ('0x100001783', '0x1000017c5'),\n",
       " ('0x100001789', '0x100001793'),\n",
       " ('0x100001789', '0x1000017bd'),\n",
       " ('0x1000017bd', '0x1000017c5'),\n",
       " ('0x1000017bf', '0x1000017c5'),\n",
       " ('0x100001793', '0x1000017bd'),\n",
       " ('0x100001793', '0x100001798'),\n",
       " ('0x100001798', '0x1000017bd'),\n",
       " ('0x100001798', '0x1000017a1'),\n",
       " ('0x1000017a1', '0x1000017bd')]"
      ]
     },
     "execution_count": 12,
     "metadata": {},
     "output_type": "execute_result"
    }
   ],
   "source": [
    "# Edges\n",
    "[(hex(x[0]), hex(x[1])) for x in G.edges()]"
   ]
  },
  {
   "cell_type": "code",
   "execution_count": 13,
   "metadata": {},
   "outputs": [
    {
     "name": "stderr",
     "output_type": "stream",
     "text": [
      "/anaconda3/lib/python3.7/site-packages/networkx/drawing/nx_pylab.py:518: MatplotlibDeprecationWarning: \n",
      "The iterable function was deprecated in Matplotlib 3.1 and will be removed in 3.3. Use np.iterable instead.\n",
      "  if not cb.iterable(width):\n",
      "/anaconda3/lib/python3.7/site-packages/networkx/drawing/nx_pylab.py:565: MatplotlibDeprecationWarning: \n",
      "The is_numlike function was deprecated in Matplotlib 3.0 and will be removed in 3.2. Use isinstance(..., numbers.Number) instead.\n",
      "  if cb.is_numlike(alpha):\n"
     ]
    },
    {
     "data": {
      "image/png": "[encoded data removed]",
      "text/plain": [
       "<Figure size 432x288 with 1 Axes>"
      ]
     },
     "metadata": {
      "image/png": {
       "height": 302,
       "width": 446
      }
     },
     "output_type": "display_data"
    }
   ],
   "source": [
    "nx.draw(G)\n",
    "plt.show()"
   ]
  }
 ],
 "metadata": {
  "kernelspec": {
   "display_name": "Python 3",
   "language": "python",
   "name": "python3"
  },
  "language_info": {
   "codemirror_mode": {
    "name": "ipython",
    "version": 3
   },
   "file_extension": ".py",
   "mimetype": "text/x-python",
   "name": "python",
   "nbconvert_exporter": "python",
   "pygments_lexer": "ipython3",
   "version": "3.7.4"
  }
 },
 "nbformat": 4,
 "nbformat_minor": 2
}
