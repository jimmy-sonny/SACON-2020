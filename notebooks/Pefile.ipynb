{
 "cells": [
  {
   "cell_type": "markdown",
   "metadata": {},
   "source": [
    "# `pefile` demo"
   ]
  },
  {
   "cell_type": "code",
   "execution_count": 1,
   "metadata": {},
   "outputs": [],
   "source": [
    "# !pip install pefile==2019.4.18"
   ]
  },
  {
   "cell_type": "code",
   "execution_count": 2,
   "metadata": {},
   "outputs": [],
   "source": [
    "import pefile\n",
    "import binascii\n",
    "\n",
    "import matplotlib.pyplot as plt\n",
    "%matplotlib inline\n",
    "%config InlineBackend.figure_format='retina'"
   ]
  },
  {
   "cell_type": "code",
   "execution_count": 3,
   "metadata": {},
   "outputs": [],
   "source": [
    "import seaborn as sns"
   ]
  },
  {
   "cell_type": "code",
   "execution_count": 4,
   "metadata": {},
   "outputs": [
    {
     "data": {
      "text/plain": [
       "'2019.4.18'"
      ]
     },
     "execution_count": 4,
     "metadata": {},
     "output_type": "execute_result"
    }
   ],
   "source": [
    "pefile.__version__"
   ]
  },
  {
   "cell_type": "code",
   "execution_count": 5,
   "metadata": {},
   "outputs": [
    {
     "name": "stdout",
     "output_type": "stream",
     "text": [
      "e46620bd4eb048fcb2a8f1541d2dbda8299e38e01a4eef9c4e7c3c43b96d0629  ../packer_example/write.exe\r\n"
     ]
    }
   ],
   "source": [
    "!shasum -a 256 ../packer_example/write.exe"
   ]
  },
  {
   "cell_type": "markdown",
   "metadata": {},
   "source": [
    "### Loading `write.exe`"
   ]
  },
  {
   "cell_type": "code",
   "execution_count": 6,
   "metadata": {},
   "outputs": [],
   "source": [
    "pe_path = \"../packer_example/write.exe\""
   ]
  },
  {
   "cell_type": "code",
   "execution_count": 7,
   "metadata": {},
   "outputs": [],
   "source": [
    "pe = pefile.PE(pe_path)"
   ]
  },
  {
   "cell_type": "markdown",
   "metadata": {},
   "source": [
    "If `fast_load` is True, `pefile` will not parse the directories. Only basic headers will be parsed."
   ]
  },
  {
   "cell_type": "code",
   "execution_count": 8,
   "metadata": {},
   "outputs": [
    {
     "data": {
      "text/plain": [
       "['DIRECTORY_ENTRY_BASERELOC',\n",
       " 'DIRECTORY_ENTRY_BOUND_IMPORT',\n",
       " 'DIRECTORY_ENTRY_DEBUG',\n",
       " 'DIRECTORY_ENTRY_IMPORT',\n",
       " 'DIRECTORY_ENTRY_RESOURCE',\n",
       " 'DOS_HEADER',\n",
       " 'FILE_HEADER',\n",
       " 'FileAlignment_Warning',\n",
       " 'FileInfo',\n",
       " 'NT_HEADERS',\n",
       " 'OPTIONAL_HEADER',\n",
       " 'PE_TYPE',\n",
       " 'RICH_HEADER',\n",
       " 'SectionAlignment_Warning',\n",
       " 'VS_FIXEDFILEINFO',\n",
       " 'VS_VERSIONINFO',\n",
       " '_PE__from_file',\n",
       " '_PE__warnings',\n",
       " '__IMAGE_BASE_RELOCATION_ENTRY_format__',\n",
       " '__IMAGE_BASE_RELOCATION_format__',\n",
       " '__IMAGE_BOUND_FORWARDER_REF_format__',\n",
       " '__IMAGE_BOUND_IMPORT_DESCRIPTOR_format__',\n",
       " '__IMAGE_DATA_DIRECTORY_format__',\n",
       " '__IMAGE_DEBUG_DIRECTORY_format__',\n",
       " '__IMAGE_DELAY_IMPORT_DESCRIPTOR_format__',\n",
       " '__IMAGE_DOS_HEADER_format__',\n",
       " '__IMAGE_EXPORT_DIRECTORY_format__',\n",
       " '__IMAGE_FILE_HEADER_format__',\n",
       " '__IMAGE_IMPORT_DESCRIPTOR_format__',\n",
       " '__IMAGE_LOAD_CONFIG_DIRECTORY64_format__',\n",
       " '__IMAGE_LOAD_CONFIG_DIRECTORY_format__',\n",
       " '__IMAGE_NT_HEADERS_format__',\n",
       " '__IMAGE_OPTIONAL_HEADER64_format__',\n",
       " '__IMAGE_OPTIONAL_HEADER_format__',\n",
       " '__IMAGE_RESOURCE_DATA_ENTRY_format__',\n",
       " '__IMAGE_RESOURCE_DIRECTORY_ENTRY_format__',\n",
       " '__IMAGE_RESOURCE_DIRECTORY_format__',\n",
       " '__IMAGE_SECTION_HEADER_format__',\n",
       " '__IMAGE_THUNK_DATA64_format__',\n",
       " '__IMAGE_THUNK_DATA_format__',\n",
       " '__IMAGE_TLS_DIRECTORY64_format__',\n",
       " '__IMAGE_TLS_DIRECTORY_format__',\n",
       " '__StringFileInfo_format__',\n",
       " '__StringTable_format__',\n",
       " '__String_format__',\n",
       " '__VS_FIXEDFILEINFO_format__',\n",
       " '__VS_VERSIONINFO_format__',\n",
       " '__Var_format__',\n",
       " '__class__',\n",
       " '__data__',\n",
       " '__delattr__',\n",
       " '__dict__',\n",
       " '__dir__',\n",
       " '__doc__',\n",
       " '__eq__',\n",
       " '__format__',\n",
       " '__ge__',\n",
       " '__getattribute__',\n",
       " '__gt__',\n",
       " '__hash__',\n",
       " '__init__',\n",
       " '__init_subclass__',\n",
       " '__le__',\n",
       " '__lt__',\n",
       " '__module__',\n",
       " '__ne__',\n",
       " '__new__',\n",
       " '__parse__',\n",
       " '__reduce__',\n",
       " '__reduce_ex__',\n",
       " '__repr__',\n",
       " '__setattr__',\n",
       " '__sizeof__',\n",
       " '__str__',\n",
       " '__structures__',\n",
       " '__subclasshook__',\n",
       " '__unpack_data__',\n",
       " '__weakref__',\n",
       " 'adjust_FileAlignment',\n",
       " 'adjust_SectionAlignment',\n",
       " 'close',\n",
       " 'dump_dict',\n",
       " 'dump_info',\n",
       " 'dword_align',\n",
       " 'fileno',\n",
       " 'full_load',\n",
       " 'generate_checksum',\n",
       " 'get_bytes_from_data',\n",
       " 'get_data',\n",
       " 'get_data_from_dword',\n",
       " 'get_data_from_qword',\n",
       " 'get_data_from_word',\n",
       " 'get_dword_at_rva',\n",
       " 'get_dword_from_data',\n",
       " 'get_dword_from_offset',\n",
       " 'get_imphash',\n",
       " 'get_import_table',\n",
       " 'get_memory_mapped_image',\n",
       " 'get_offset_from_rva',\n",
       " 'get_overlay',\n",
       " 'get_overlay_data_start_offset',\n",
       " 'get_physical_by_rva',\n",
       " 'get_qword_at_rva',\n",
       " 'get_qword_from_data',\n",
       " 'get_qword_from_offset',\n",
       " 'get_resources_strings',\n",
       " 'get_rva_from_offset',\n",
       " 'get_section_by_offset',\n",
       " 'get_section_by_rva',\n",
       " 'get_string_at_rva',\n",
       " 'get_string_from_data',\n",
       " 'get_string_u_at_rva',\n",
       " 'get_warnings',\n",
       " 'get_word_at_rva',\n",
       " 'get_word_from_data',\n",
       " 'get_word_from_offset',\n",
       " 'has_relocs',\n",
       " 'header',\n",
       " 'is_dll',\n",
       " 'is_driver',\n",
       " 'is_exe',\n",
       " 'merge_modified_section_data',\n",
       " 'parse_data_directories',\n",
       " 'parse_debug_directory',\n",
       " 'parse_delay_import_directory',\n",
       " 'parse_directory_bound_imports',\n",
       " 'parse_directory_load_config',\n",
       " 'parse_directory_tls',\n",
       " 'parse_export_directory',\n",
       " 'parse_import_directory',\n",
       " 'parse_imports',\n",
       " 'parse_relocations',\n",
       " 'parse_relocations_directory',\n",
       " 'parse_resource_data_entry',\n",
       " 'parse_resource_entry',\n",
       " 'parse_resources_directory',\n",
       " 'parse_rich_header',\n",
       " 'parse_sections',\n",
       " 'parse_version_information',\n",
       " 'print_info',\n",
       " 'relocate_image',\n",
       " 'sections',\n",
       " 'set_bytes_at_offset',\n",
       " 'set_bytes_at_rva',\n",
       " 'set_dword_at_offset',\n",
       " 'set_dword_at_rva',\n",
       " 'set_qword_at_offset',\n",
       " 'set_qword_at_rva',\n",
       " 'set_word_at_offset',\n",
       " 'set_word_at_rva',\n",
       " 'show_warnings',\n",
       " 'trim',\n",
       " 'verify_checksum',\n",
       " 'write']"
      ]
     },
     "execution_count": 8,
     "metadata": {},
     "output_type": "execute_result"
    }
   ],
   "source": [
    "dir(pe)"
   ]
  },
  {
   "cell_type": "markdown",
   "metadata": {},
   "source": [
    "### Print the PE headers"
   ]
  },
  {
   "cell_type": "code",
   "execution_count": 9,
   "metadata": {
    "scrolled": true
   },
   "outputs": [
    {
     "name": "stdout",
     "output_type": "stream",
     "text": [
      "----------DOS_HEADER----------\n",
      "\n",
      "[IMAGE_DOS_HEADER]\n",
      "0x0        0x0   e_magic:                       0x5A4D    \n",
      "0x2        0x2   e_cblp:                        0x90      \n",
      "0x4        0x4   e_cp:                          0x3       \n",
      "0x6        0x6   e_crlc:                        0x0       \n",
      "0x8        0x8   e_cparhdr:                     0x4       \n",
      "0xA        0xA   e_minalloc:                    0x0       \n",
      "0xC        0xC   e_maxalloc:                    0xFFFF    \n",
      "0xE        0xE   e_ss:                          0x0       \n",
      "0x10       0x10  e_sp:                          0xB8      \n",
      "0x12       0x12  e_csum:                        0x0       \n",
      "0x14       0x14  e_ip:                          0x0       \n",
      "0x16       0x16  e_cs:                          0x0       \n",
      "0x18       0x18  e_lfarlc:                      0x40      \n",
      "0x1A       0x1A  e_ovno:                        0x0       \n",
      "0x1C       0x1C  e_res:                         \n",
      "0x24       0x24  e_oemid:                       0x0       \n",
      "0x26       0x26  e_oeminfo:                     0x0       \n",
      "0x28       0x28  e_res2:                        \n",
      "0x3C       0x3C  e_lfanew:                      0xE0      \n",
      "\n",
      "----------NT_HEADERS----------\n",
      "\n",
      "[IMAGE_NT_HEADERS]\n",
      "0xE0       0x0   Signature:                     0x4550    \n",
      "\n",
      "----------FILE_HEADER----------\n",
      "\n",
      "[IMAGE_FILE_HEADER]\n",
      "0xE4       0x0   Machine:                       0x8664    \n",
      "0xE6       0x2   NumberOfSections:              0x5       \n",
      "0xE8       0x4   TimeDateStamp:                 0x4A5BC9AC [Mon Jul 13 23:56:28 2009 UTC]\n",
      "0xEC       0x8   PointerToSymbolTable:          0x0       \n",
      "0xF0       0xC   NumberOfSymbols:               0x0       \n",
      "0xF4       0x10  SizeOfOptionalHeader:          0xF0      \n",
      "0xF6       0x12  Characteristics:               0x22      \n",
      "Flags: IMAGE_FILE_EXECUTABLE_IMAGE, IMAGE_FILE_LARGE_ADDRESS_AWARE\n",
      "\n",
      "----------OPTIONAL_HEADER----------\n",
      "\n",
      "[IMAGE_OPTIONAL_HEADER64]\n",
      "0xF8       0x0   Magic:                         0x20B     \n",
      "0xFA       0x2   MajorLinkerVersion:            0x9       \n",
      "0xFB       0x3   MinorLinkerVersion:            0x0       \n",
      "0xFC       0x4   SizeOfCode:                    0x1000    \n",
      "0x100      0x8   SizeOfInitializedData:         0x1A00    \n",
      "0x104      0xC   SizeOfUninitializedData:       0x0       \n",
      "0x108      0x10  AddressOfEntryPoint:           0x15A4    \n",
      "0x10C      0x14  BaseOfCode:                    0x1000    \n",
      "0x110      0x18  ImageBase:                     0x100000000\n",
      "0x118      0x20  SectionAlignment:              0x1000    \n",
      "0x11C      0x24  FileAlignment:                 0x200     \n",
      "0x120      0x28  MajorOperatingSystemVersion:   0x6       \n",
      "0x122      0x2A  MinorOperatingSystemVersion:   0x1       \n",
      "0x124      0x2C  MajorImageVersion:             0x6       \n",
      "0x126      0x2E  MinorImageVersion:             0x1       \n",
      "0x128      0x30  MajorSubsystemVersion:         0x6       \n",
      "0x12A      0x32  MinorSubsystemVersion:         0x1       \n",
      "0x12C      0x34  Reserved1:                     0x0       \n",
      "0x130      0x38  SizeOfImage:                   0x6000    \n",
      "0x134      0x3C  SizeOfHeaders:                 0x400     \n",
      "0x138      0x40  CheckSum:                      0x883F    \n",
      "0x13C      0x44  Subsystem:                     0x2       \n",
      "0x13E      0x46  DllCharacteristics:            0x8140    \n",
      "0x140      0x48  SizeOfStackReserve:            0x80000   \n",
      "0x148      0x50  SizeOfStackCommit:             0x2000    \n",
      "0x150      0x58  SizeOfHeapReserve:             0x100000  \n",
      "0x158      0x60  SizeOfHeapCommit:              0x1000    \n",
      "0x160      0x68  LoaderFlags:                   0x0       \n",
      "0x164      0x6C  NumberOfRvaAndSizes:           0x10      \n",
      "DllCharacteristics: IMAGE_DLLCHARACTERISTICS_DYNAMIC_BASE, IMAGE_DLLCHARACTERISTICS_NX_COMPAT, IMAGE_DLLCHARACTERISTICS_TERMINAL_SERVER_AWARE\n",
      "\n",
      "----------PE Sections----------\n",
      "\n",
      "[IMAGE_SECTION_HEADER]\n",
      "0x1E8      0x0   Name:                          .text\n",
      "0x1F0      0x8   Misc:                          0xEC4     \n",
      "0x1F0      0x8   Misc_PhysicalAddress:          0xEC4     \n",
      "0x1F0      0x8   Misc_VirtualSize:              0xEC4     \n",
      "0x1F4      0xC   VirtualAddress:                0x1000    \n",
      "0x1F8      0x10  SizeOfRawData:                 0x1000    \n",
      "0x1FC      0x14  PointerToRawData:              0x400     \n",
      "0x200      0x18  PointerToRelocations:          0x0       \n",
      "0x204      0x1C  PointerToLinenumbers:          0x0       \n",
      "0x208      0x20  NumberOfRelocations:           0x0       \n",
      "0x20A      0x22  NumberOfLinenumbers:           0x0       \n",
      "0x20C      0x24  Characteristics:               0x60000020\n",
      "Flags: IMAGE_SCN_CNT_CODE, IMAGE_SCN_MEM_EXECUTE, IMAGE_SCN_MEM_READ\n",
      "Entropy: 5.628278 (Min=0.0, Max=8.0)\n",
      "MD5     hash: 3225098c6967addf301e5091cf0249fc\n",
      "SHA-1   hash: 00830294c3a4816e07e26d2582517b568ab1863c\n",
      "SHA-256 hash: f4ba4f3b2bcf13cbcf243463f129d095ead3834cddd1514b8b113d3212f737b0\n",
      "SHA-512 hash: 198117e13528231514fcc521e7fb5622770f65562749343d98e8fb91992fe087fb74dfc03cc6c1f3d410902c625c4b49bb7973e04a618c1b474944e054d27e32\n",
      "\n",
      "[IMAGE_SECTION_HEADER]\n",
      "0x210      0x0   Name:                          .data\n",
      "0x218      0x8   Misc:                          0x6F8     \n",
      "0x218      0x8   Misc_PhysicalAddress:          0x6F8     \n",
      "0x218      0x8   Misc_VirtualSize:              0x6F8     \n",
      "0x21C      0xC   VirtualAddress:                0x2000    \n",
      "0x220      0x10  SizeOfRawData:                 0x200     \n",
      "0x224      0x14  PointerToRawData:              0x1400    \n",
      "0x228      0x18  PointerToRelocations:          0x0       \n",
      "0x22C      0x1C  PointerToLinenumbers:          0x0       \n",
      "0x230      0x20  NumberOfRelocations:           0x0       \n",
      "0x232      0x22  NumberOfLinenumbers:           0x0       \n",
      "0x234      0x24  Characteristics:               0xC0000040\n",
      "Flags: IMAGE_SCN_CNT_INITIALIZED_DATA, IMAGE_SCN_MEM_READ, IMAGE_SCN_MEM_WRITE\n",
      "Entropy: 0.419103 (Min=0.0, Max=8.0)\n",
      "MD5     hash: fb77fdb9b9700009a3710e344dc0d69f\n",
      "SHA-1   hash: 888af0ff006aa8d8f5016f4e41fc2ae81b1311ea\n",
      "SHA-256 hash: 0cbeb67f5f0f8cb90a2cccd4eeffd1f51406b3342c2de90e7c5359243fe1f263\n",
      "SHA-512 hash: 80876fb55c62d08a4500df4479b5f8e59c8224dc92a0f076641d2211c8950aba2f31a66c1d3b867f6f9cfa269bc5365701edcf64f00c7d85fa07d07b7722e977\n",
      "\n",
      "[IMAGE_SECTION_HEADER]\n",
      "0x238      0x0   Name:                          .pdata\n",
      "0x240      0x8   Misc:                          0xA8      \n",
      "0x240      0x8   Misc_PhysicalAddress:          0xA8      \n",
      "0x240      0x8   Misc_VirtualSize:              0xA8      \n",
      "0x244      0xC   VirtualAddress:                0x3000    \n",
      "0x248      0x10  SizeOfRawData:                 0x200     \n",
      "0x24C      0x14  PointerToRawData:              0x1600    \n",
      "0x250      0x18  PointerToRelocations:          0x0       \n",
      "0x254      0x1C  PointerToLinenumbers:          0x0       \n",
      "0x258      0x20  NumberOfRelocations:           0x0       \n",
      "0x25A      0x22  NumberOfLinenumbers:           0x0       \n",
      "0x25C      0x24  Characteristics:               0x40000040\n",
      "Flags: IMAGE_SCN_CNT_INITIALIZED_DATA, IMAGE_SCN_MEM_READ\n",
      "Entropy: 1.442970 (Min=0.0, Max=8.0)\n",
      "MD5     hash: 249317e0f76361303d0b5e07b9ee6e26\n",
      "SHA-1   hash: b2720b3ab16d969188e8c8b7d289274f364475d1\n",
      "SHA-256 hash: 60a6ae3a884b09fabf0a51bcc56282cc5d78e7f4f3de9aaea2df0364881749e3\n",
      "SHA-512 hash: a3bb1de5ec7ca73d48d006d4d29dc35d87512c48c88109d91cb71d374a4246fe240a34fc48f469dd0f6914d4b4ae544aeeb36f175cf1fc8f80ddbafe35c18ac2\n",
      "\n",
      "[IMAGE_SECTION_HEADER]\n",
      "0x260      0x0   Name:                          .rsrc\n",
      "0x268      0x8   Misc:                          0xDA8     \n",
      "0x268      0x8   Misc_PhysicalAddress:          0xDA8     \n",
      "0x268      0x8   Misc_VirtualSize:              0xDA8     \n",
      "0x26C      0xC   VirtualAddress:                0x4000    \n",
      "0x270      0x10  SizeOfRawData:                 0xE00     \n",
      "0x274      0x14  PointerToRawData:              0x1800    \n",
      "0x278      0x18  PointerToRelocations:          0x0       \n",
      "0x27C      0x1C  PointerToLinenumbers:          0x0       \n",
      "0x280      0x20  NumberOfRelocations:           0x0       \n",
      "0x282      0x22  NumberOfLinenumbers:           0x0       \n",
      "0x284      0x24  Characteristics:               0x40000040\n",
      "Flags: IMAGE_SCN_CNT_INITIALIZED_DATA, IMAGE_SCN_MEM_READ\n",
      "Entropy: 4.620039 (Min=0.0, Max=8.0)\n",
      "MD5     hash: 658af832d007b80dfca482cafd40ac3d\n",
      "SHA-1   hash: f015d1c62311cc9d3ecd4901a7b731246b30c1b2\n",
      "SHA-256 hash: ddbbdc3fcdbd5d3c035f81a48685c12ec646d19547d02969de4f57370c98de8a\n",
      "SHA-512 hash: 216c90bcb9fb844e58d8bf6793066414df4ad4fe312365e27b54695b628d266a7397b559d93dd046da3e016761d59f0183d1d9e051b08e2ebde459396322a442\n",
      "\n",
      "[IMAGE_SECTION_HEADER]\n",
      "0x288      0x0   Name:                          .reloc\n",
      "0x290      0x8   Misc:                          0x38      \n",
      "0x290      0x8   Misc_PhysicalAddress:          0x38      \n",
      "0x290      0x8   Misc_VirtualSize:              0x38      \n",
      "0x294      0xC   VirtualAddress:                0x5000    \n",
      "0x298      0x10  SizeOfRawData:                 0x200     \n",
      "0x29C      0x14  PointerToRawData:              0x2600    \n",
      "0x2A0      0x18  PointerToRelocations:          0x0       \n",
      "0x2A4      0x1C  PointerToLinenumbers:          0x0       \n",
      "0x2A8      0x20  NumberOfRelocations:           0x0       \n",
      "0x2AA      0x22  NumberOfLinenumbers:           0x0       \n",
      "0x2AC      0x24  Characteristics:               0x42000040\n",
      "Flags: IMAGE_SCN_CNT_INITIALIZED_DATA, IMAGE_SCN_MEM_DISCARDABLE, IMAGE_SCN_MEM_READ\n",
      "Entropy: 0.221676 (Min=0.0, Max=8.0)\n",
      "MD5     hash: d622ae595d1a5dff18700ea2df855d25\n",
      "SHA-1   hash: b022e99eb5f081692d7a13b5dbe4554d3124f006\n",
      "SHA-256 hash: dd0a429eed165016d1fe544c3db08514ae1b0c2a8e78bf971f5d07c25ded3e8d\n",
      "SHA-512 hash: c16dc080bfa51d50d71dcd7cae9d7d84bda2d2704ece989e13b6fcb723646f39dc5d12849f2b93dd531a185a804acc4635d404fe72dbd605405b993dbdaa6d24\n",
      "\n",
      "----------Directories----------\n",
      "\n",
      "[IMAGE_DIRECTORY_ENTRY_EXPORT]\n",
      "0x168      0x0   VirtualAddress:                0x0       \n",
      "0x16C      0x4   Size:                          0x0       \n",
      "[IMAGE_DIRECTORY_ENTRY_IMPORT]\n",
      "0x170      0x0   VirtualAddress:                0x1B10    \n",
      "0x174      0x4   Size:                          0x50      \n",
      "[IMAGE_DIRECTORY_ENTRY_RESOURCE]\n",
      "0x178      0x0   VirtualAddress:                0x4000    \n",
      "0x17C      0x4   Size:                          0xDA8     \n",
      "[IMAGE_DIRECTORY_ENTRY_EXCEPTION]\n",
      "0x180      0x0   VirtualAddress:                0x3000    \n",
      "0x184      0x4   Size:                          0xA8      \n",
      "[IMAGE_DIRECTORY_ENTRY_SECURITY]\n",
      "0x188      0x0   VirtualAddress:                0x0       \n",
      "0x18C      0x4   Size:                          0x0       \n",
      "[IMAGE_DIRECTORY_ENTRY_BASERELOC]\n",
      "0x190      0x0   VirtualAddress:                0x5000    \n",
      "0x194      0x4   Size:                          0x14      \n",
      "[IMAGE_DIRECTORY_ENTRY_DEBUG]\n",
      "0x198      0x0   VirtualAddress:                0x1150    \n",
      "0x19C      0x4   Size:                          0x1C      \n",
      "[IMAGE_DIRECTORY_ENTRY_COPYRIGHT]\n",
      "0x1A0      0x0   VirtualAddress:                0x0       \n",
      "0x1A4      0x4   Size:                          0x0       \n",
      "[IMAGE_DIRECTORY_ENTRY_GLOBALPTR]\n",
      "0x1A8      0x0   VirtualAddress:                0x0       \n",
      "0x1AC      0x4   Size:                          0x0       \n",
      "[IMAGE_DIRECTORY_ENTRY_TLS]\n",
      "0x1B0      0x0   VirtualAddress:                0x0       \n",
      "0x1B4      0x4   Size:                          0x0       \n",
      "[IMAGE_DIRECTORY_ENTRY_LOAD_CONFIG]\n",
      "0x1B8      0x0   VirtualAddress:                0x0       \n",
      "0x1BC      0x4   Size:                          0x0       \n",
      "[IMAGE_DIRECTORY_ENTRY_BOUND_IMPORT]\n",
      "0x1C0      0x0   VirtualAddress:                0x2B0     \n",
      "0x1C4      0x4   Size:                          0x58      \n",
      "[IMAGE_DIRECTORY_ENTRY_IAT]\n",
      "0x1C8      0x0   VirtualAddress:                0x1000    \n",
      "0x1CC      0x4   Size:                          0x110     \n",
      "[IMAGE_DIRECTORY_ENTRY_DELAY_IMPORT]\n",
      "0x1D0      0x0   VirtualAddress:                0x0       \n",
      "0x1D4      0x4   Size:                          0x0       \n",
      "[IMAGE_DIRECTORY_ENTRY_COM_DESCRIPTOR]\n",
      "0x1D8      0x0   VirtualAddress:                0x0       \n",
      "0x1DC      0x4   Size:                          0x0       \n",
      "[IMAGE_DIRECTORY_ENTRY_RESERVED]\n",
      "0x1E0      0x0   VirtualAddress:                0x0       \n",
      "0x1E4      0x4   Size:                          0x0       \n",
      "\n",
      "----------Version Information----------\n",
      "\n",
      "[VS_VERSIONINFO]\n",
      "0x2240     0x0   Length:                        0x368     \n",
      "0x2242     0x2   ValueLength:                   0x34      \n",
      "0x2244     0x4   Type:                          0x0       \n",
      "\n",
      "[VS_FIXEDFILEINFO]\n",
      "0x2268     0x0   Signature:                     0xFEEF04BD\n",
      "0x226C     0x4   StrucVersion:                  0x10000   \n",
      "0x2270     0x8   FileVersionMS:                 0x60001   \n",
      "0x2274     0xC   FileVersionLS:                 0x1DB04001\n",
      "0x2278     0x10  ProductVersionMS:              0x60001   \n",
      "0x227C     0x14  ProductVersionLS:              0x1DB04001\n",
      "0x2280     0x18  FileFlagsMask:                 0x3F      \n",
      "0x2284     0x1C  FileFlags:                     0x0       \n",
      "0x2288     0x20  FileOS:                        0x40004   \n",
      "0x228C     0x24  FileType:                      0x1       \n",
      "0x2290     0x28  FileSubtype:                   0x0       \n",
      "0x2294     0x2C  FileDateMS:                    0x0       \n",
      "0x2298     0x30  FileDateLS:                    0x0       \n",
      "\n",
      "[StringFileInfo]\n",
      "0x229C     0x0   Length:                        0x2C6     \n",
      "0x229E     0x2   ValueLength:                   0x0       \n",
      "0x22A0     0x4   Type:                          0x1       \n",
      "\n",
      "  [StringTable]\n",
      "  0x22C0     0x0   Length:                        0x2A2     \n",
      "  0x22C2     0x2   ValueLength:                   0x0       \n",
      "  0x22C4     0x4   Type:                          0x1       \n",
      "  LangID: 040904B0\n",
      "\n",
      "    CompanyName: Microsoft Corporation\n",
      "    FileDescription: Windows Write\n",
      "    FileVersion: 6.1.7600.16385 (win7_rtm.090713-1255)\n",
      "    InternalName: write\n",
      "    LegalCopyright: © Microsoft Corporation. All rights reserved.\n",
      "    OriginalFilename: write\n",
      "    ProductName: Microsoft® Windows® Operating System\n",
      "    ProductVersion: 6.1.7600.16385\n",
      "\n",
      "[VarFileInfo]\n",
      "0x2564     0x0   Length:                        0x44      \n",
      "0x2566     0x2   ValueLength:                   0x0       \n",
      "0x2568     0x4   Type:                          0x1       \n",
      "\n",
      "  [Var]\n",
      "  0x2584     0x0   Length:                        0x24      \n",
      "  0x2586     0x2   ValueLength:                   0x4       \n",
      "  0x2588     0x4   Type:                          0x0       \n",
      "    Translation: 0x0409 0x04b0\n",
      "\n",
      "----------Imported symbols----------\n",
      "\n",
      "[IMAGE_IMPORT_DESCRIPTOR]\n",
      "0xF10      0x0   OriginalFirstThunk:            0x1BE8    \n",
      "0xF10      0x0   Characteristics:               0x1BE8    \n",
      "0xF14      0x4   TimeDateStamp:                 0xFFFFFFFF [Sun Feb  7 06:28:15 2106 UTC]\n",
      "0xF18      0x8   ForwarderChain:                0xFFFFFFFF\n",
      "0xF1C      0xC   Name:                          0x1C80    \n",
      "0xF20      0x10  FirstThunk:                    0x1088    \n",
      "\n",
      "SHELL32.dll.ShellExecuteW Hint[290] Bound: 0x7FF788DBEA8\n",
      "\n",
      "[IMAGE_IMPORT_DESCRIPTOR]\n",
      "0xF24      0x0   OriginalFirstThunk:            0x1B60    \n",
      "0xF24      0x0   Characteristics:               0x1B60    \n",
      "0xF28      0x4   TimeDateStamp:                 0xFFFFFFFF [Sun Feb  7 06:28:15 2106 UTC]\n",
      "0xF2C      0x8   ForwarderChain:                0xFFFFFFFF\n",
      "0xF30      0xC   Name:                          0x1CB4    \n",
      "0xF34      0x10  FirstThunk:                    0x1000    \n",
      "\n",
      "KERNEL32.dll.RtlCaptureContext Hint[1048] Bound: 0x78D6BC10\n",
      "KERNEL32.dll.SetUnhandledExceptionFilter Hint[1203] Bound: 0x78D39690\n",
      "KERNEL32.dll.GetStartupInfoW Hint[618] Bound: 0x78D412D0\n",
      "KERNEL32.dll.HeapSetInformation Hint[731] Bound: 0x78D411C0\n",
      "KERNEL32.dll.RtlLookupFunctionEntry Hint[1055] Bound: 0x78D6BB30\n",
      "KERNEL32.dll.RtlVirtualUnwind Hint[1062] Bound: 0x78D6BAD0\n",
      "KERNEL32.dll.UnhandledExceptionFilter Hint[1250] Bound: 0x78DB9220\n",
      "KERNEL32.dll.GetCurrentProcess Hint[454] Bound: 0x78D3FE80\n",
      "KERNEL32.dll.TerminateProcess Hint[1230] Bound: 0x78D6C1B0\n",
      "KERNEL32.dll.GetSystemTimeAsFileTime Hint[640] Bound: 0x78D404B0\n",
      "KERNEL32.dll.GetCurrentProcessId Hint[455] Bound: 0x78D403E0\n",
      "KERNEL32.dll.GetCurrentThreadId Hint[459] Bound: 0x78D3EFB0\n",
      "KERNEL32.dll.GetTickCount Hint[666] Bound: 0x78D42870\n",
      "KERNEL32.dll.QueryPerformanceCounter Hint[937] Bound: 0x78D40490\n",
      "KERNEL32.dll.GetModuleHandleW Hint[542] Bound: 0x78D43490\n",
      "KERNEL32.dll.Sleep Hint[1216] Bound: 0x78D428E0\n",
      "\n",
      "[IMAGE_IMPORT_DESCRIPTOR]\n",
      "0xF38      0x0   OriginalFirstThunk:            0x1BF8    \n",
      "0xF38      0x0   Characteristics:               0x1BF8    \n",
      "0xF3C      0x4   TimeDateStamp:                 0xFFFFFFFF [Sun Feb  7 06:28:15 2106 UTC]\n",
      "0xF40      0x8   ForwarderChain:                0xFFFFFFFF\n",
      "0xF44      0xC   Name:                          0x1D88    \n",
      "0xF48      0x10  FirstThunk:                    0x1098    \n",
      "\n",
      "msvcrt.dll.?terminate@@YAXXZ Hint[48] Bound: 0x7FF756CAA70\n",
      "msvcrt.dll.__set_app_type Hint[128] Bound: 0x7FF756AB088\n",
      "msvcrt.dll._fmode Hint[280] Bound: 0x7FF7573127C\n",
      "msvcrt.dll._commode Hint[196] Bound: 0x7FF75731280\n",
      "msvcrt.dll.__setusermatherr Hint[130] Bound: 0x7FF7570DA94\n",
      "msvcrt.dll._amsg_exit Hint[160] Bound: 0x7FF756EC260\n",
      "msvcrt.dll._initterm Hint[364] Bound: 0x7FF756A44F0\n",
      "msvcrt.dll._wcmdln Hint[881] Bound: 0x7FF757310A8\n",
      "msvcrt.dll.exit Hint[1056] Bound: 0x7FF756A99F4\n",
      "msvcrt.dll._cexit Hint[179] Bound: 0x7FF756B4640\n",
      "msvcrt.dll._exit Hint[255] Bound: 0x7FF756EC234\n",
      "msvcrt.dll._XcptFilter Hint[82] Bound: 0x7FF756E0D98\n",
      "msvcrt.dll.__C_specific_handler Hint[83] Bound: 0x78E650AC\n",
      "msvcrt.dll.__wgetmainargs Hint[143] Bound: 0x7FF756B2F18\n",
      "\n",
      "----------Bound imports----------\n",
      "\n",
      "[IMAGE_BOUND_IMPORT_DESCRIPTOR]\n",
      "0x2B0      0x0   TimeDateStamp:                 0x4A5BE054 [Tue Jul 14 01:33:08 2009 UTC]\n",
      "0x2B4      0x4   OffsetModuleName:              0x28      \n",
      "0x2B6      0x6   NumberOfModuleForwarderRefs:   0x0       \n",
      "DLL: SHELL32.dll\n",
      "\n",
      "[IMAGE_BOUND_IMPORT_DESCRIPTOR]\n",
      "0x2B8      0x0   TimeDateStamp:                 0x4A5BDFDF [Tue Jul 14 01:31:11 2009 UTC]\n",
      "0x2BC      0x4   OffsetModuleName:              0x34      \n",
      "0x2BE      0x6   NumberOfModuleForwarderRefs:   0x0       \n",
      "DLL: KERNEL32.dll\n",
      "\n",
      "[IMAGE_BOUND_IMPORT_DESCRIPTOR]\n",
      "0x2C0      0x0   TimeDateStamp:                 0x4A5BDFBE [Tue Jul 14 01:30:38 2009 UTC]\n",
      "0x2C4      0x4   OffsetModuleName:              0x41      \n",
      "0x2C6      0x6   NumberOfModuleForwarderRefs:   0x1       \n",
      "DLL: msvcrt.dll\n",
      "\n",
      "    [IMAGE_BOUND_FORWARDER_REF]\n",
      "    0x2C8      0x0   TimeDateStamp:                 0x4A5BE02B [Tue Jul 14 01:32:27 2009 UTC]\n",
      "    0x2CC      0x4   OffsetModuleName:              0x4C      \n",
      "    0x2CE      0x6   Reserved:                      0x0       \n",
      "    DLL: NTDLL.DLL\n",
      "\n",
      "----------Resource directory----------\n",
      "\n",
      "[IMAGE_RESOURCE_DIRECTORY]\n",
      "0x1800     0x0   Characteristics:               0x0       \n",
      "0x1804     0x4   TimeDateStamp:                 0x0        [Thu Jan  1 00:00:00 1970 UTC]\n",
      "0x1808     0x8   MajorVersion:                  0x0       \n",
      "0x180A     0xA   MinorVersion:                  0x0       \n",
      "0x180C     0xC   NumberOfNamedEntries:          0x0       \n",
      "0x180E     0xE   NumberOfIdEntries:             0x4       \n",
      "  Id: [0x3] (RT_ICON)\n",
      "  [IMAGE_RESOURCE_DIRECTORY_ENTRY]\n",
      "  0x1810     0x0   Name:                          0x3       \n",
      "  0x1814     0x4   OffsetToData:                  0x80000030\n",
      "    [IMAGE_RESOURCE_DIRECTORY]\n",
      "    0x1830     0x0   Characteristics:               0x0       \n",
      "    0x1834     0x4   TimeDateStamp:                 0x0        [Thu Jan  1 00:00:00 1970 UTC]\n",
      "    0x1838     0x8   MajorVersion:                  0x0       \n",
      "    0x183A     0xA   MinorVersion:                  0x0       \n",
      "    0x183C     0xC   NumberOfNamedEntries:          0x0       \n",
      "    0x183E     0xE   NumberOfIdEntries:             0x2       \n",
      "      Id: [0x1]\n",
      "      [IMAGE_RESOURCE_DIRECTORY_ENTRY]\n",
      "      0x1840     0x0   Name:                          0x1       \n",
      "      0x1844     0x4   OffsetToData:                  0x80000098\n",
      "        [IMAGE_RESOURCE_DIRECTORY]\n",
      "        0x1898     0x0   Characteristics:               0x0       \n",
      "        0x189C     0x4   TimeDateStamp:                 0x0        [Thu Jan  1 00:00:00 1970 UTC]\n",
      "        0x18A0     0x8   MajorVersion:                  0x0       \n",
      "        0x18A2     0xA   MinorVersion:                  0x0       \n",
      "        0x18A4     0xC   NumberOfNamedEntries:          0x0       \n",
      "        0x18A6     0xE   NumberOfIdEntries:             0x1       \n",
      "        \\--- LANG [9,1][LANG_ENGLISH,SUBLANG_ENGLISH_US]\n",
      "          [IMAGE_RESOURCE_DIRECTORY_ENTRY]\n",
      "          0x18A8     0x0   Name:                          0x409     \n",
      "          0x18AC     0x4   OffsetToData:                  0x110     \n",
      "            [IMAGE_RESOURCE_DATA_ENTRY]\n",
      "            0x1910     0x0   OffsetToData:                  0x45F8    \n",
      "            0x1914     0x4   Size:                          0x2F0     \n",
      "            0x1918     0x8   CodePage:                      0x0       \n",
      "            0x191C     0xC   Reserved:                      0x0       \n",
      "      Id: [0x2]\n",
      "      [IMAGE_RESOURCE_DIRECTORY_ENTRY]\n",
      "      0x1848     0x0   Name:                          0x2       \n",
      "      0x184C     0x4   OffsetToData:                  0x800000B0\n",
      "        [IMAGE_RESOURCE_DIRECTORY]\n",
      "        0x18B0     0x0   Characteristics:               0x0       \n",
      "        0x18B4     0x4   TimeDateStamp:                 0x0        [Thu Jan  1 00:00:00 1970 UTC]\n",
      "        0x18B8     0x8   MajorVersion:                  0x0       \n",
      "        0x18BA     0xA   MinorVersion:                  0x0       \n",
      "        0x18BC     0xC   NumberOfNamedEntries:          0x0       \n",
      "        0x18BE     0xE   NumberOfIdEntries:             0x1       \n",
      "        \\--- LANG [9,1][LANG_ENGLISH,SUBLANG_ENGLISH_US]\n",
      "          [IMAGE_RESOURCE_DIRECTORY_ENTRY]\n",
      "          0x18C0     0x0   Name:                          0x409     \n",
      "          0x18C4     0x4   OffsetToData:                  0x120     \n",
      "            [IMAGE_RESOURCE_DATA_ENTRY]\n",
      "            0x1920     0x0   OffsetToData:                  0x48E8    \n",
      "            0x1924     0x4   Size:                          0x130     \n",
      "            0x1928     0x8   CodePage:                      0x0       \n",
      "            0x192C     0xC   Reserved:                      0x0       \n",
      "\n",
      "  Id: [0xE] (RT_GROUP_ICON)\n",
      "  [IMAGE_RESOURCE_DIRECTORY_ENTRY]\n",
      "  0x1818     0x0   Name:                          0xE       \n",
      "  0x181C     0x4   OffsetToData:                  0x80000050\n",
      "    [IMAGE_RESOURCE_DIRECTORY]\n",
      "    0x1850     0x0   Characteristics:               0x0       \n",
      "    0x1854     0x4   TimeDateStamp:                 0x0        [Thu Jan  1 00:00:00 1970 UTC]\n",
      "    0x1858     0x8   MajorVersion:                  0x0       \n",
      "    0x185A     0xA   MinorVersion:                  0x0       \n",
      "    0x185C     0xC   NumberOfNamedEntries:          0x0       \n",
      "    0x185E     0xE   NumberOfIdEntries:             0x1       \n",
      "      Id: [0x1]\n",
      "      [IMAGE_RESOURCE_DIRECTORY_ENTRY]\n",
      "      0x1860     0x0   Name:                          0x1       \n",
      "      0x1864     0x4   OffsetToData:                  0x800000C8\n",
      "        [IMAGE_RESOURCE_DIRECTORY]\n",
      "        0x18C8     0x0   Characteristics:               0x0       \n",
      "        0x18CC     0x4   TimeDateStamp:                 0x0        [Thu Jan  1 00:00:00 1970 UTC]\n",
      "        0x18D0     0x8   MajorVersion:                  0x0       \n",
      "        0x18D2     0xA   MinorVersion:                  0x0       \n",
      "        0x18D4     0xC   NumberOfNamedEntries:          0x0       \n",
      "        0x18D6     0xE   NumberOfIdEntries:             0x1       \n",
      "        \\--- LANG [9,1][LANG_ENGLISH,SUBLANG_ENGLISH_US]\n",
      "          [IMAGE_RESOURCE_DIRECTORY_ENTRY]\n",
      "          0x18D8     0x0   Name:                          0x409     \n",
      "          0x18DC     0x4   OffsetToData:                  0x130     \n",
      "            [IMAGE_RESOURCE_DATA_ENTRY]\n",
      "            0x1930     0x0   OffsetToData:                  0x4A18    \n",
      "            0x1934     0x4   Size:                          0x22      \n",
      "            0x1938     0x8   CodePage:                      0x0       \n",
      "            0x193C     0xC   Reserved:                      0x0       \n",
      "\n",
      "  Id: [0x10] (RT_VERSION)\n",
      "  [IMAGE_RESOURCE_DIRECTORY_ENTRY]\n",
      "  0x1820     0x0   Name:                          0x10      \n",
      "  0x1824     0x4   OffsetToData:                  0x80000068\n",
      "    [IMAGE_RESOURCE_DIRECTORY]\n",
      "    0x1868     0x0   Characteristics:               0x0       \n",
      "    0x186C     0x4   TimeDateStamp:                 0x0        [Thu Jan  1 00:00:00 1970 UTC]\n",
      "    0x1870     0x8   MajorVersion:                  0x0       \n",
      "    0x1872     0xA   MinorVersion:                  0x0       \n",
      "    0x1874     0xC   NumberOfNamedEntries:          0x0       \n",
      "    0x1876     0xE   NumberOfIdEntries:             0x1       \n",
      "      Id: [0x1]\n",
      "      [IMAGE_RESOURCE_DIRECTORY_ENTRY]\n",
      "      0x1878     0x0   Name:                          0x1       \n",
      "      0x187C     0x4   OffsetToData:                  0x800000E0\n",
      "        [IMAGE_RESOURCE_DIRECTORY]\n",
      "        0x18E0     0x0   Characteristics:               0x0       \n",
      "        0x18E4     0x4   TimeDateStamp:                 0x0        [Thu Jan  1 00:00:00 1970 UTC]\n",
      "        0x18E8     0x8   MajorVersion:                  0x0       \n",
      "        0x18EA     0xA   MinorVersion:                  0x0       \n",
      "        0x18EC     0xC   NumberOfNamedEntries:          0x0       \n",
      "        0x18EE     0xE   NumberOfIdEntries:             0x1       \n",
      "        \\--- LANG [9,1][LANG_ENGLISH,SUBLANG_ENGLISH_US]\n",
      "          [IMAGE_RESOURCE_DIRECTORY_ENTRY]\n",
      "          0x18F0     0x0   Name:                          0x409     \n",
      "          0x18F4     0x4   OffsetToData:                  0x140     \n",
      "            [IMAGE_RESOURCE_DATA_ENTRY]\n",
      "            0x1940     0x0   OffsetToData:                  0x4A40    \n",
      "            0x1944     0x4   Size:                          0x368     \n",
      "            0x1948     0x8   CodePage:                      0x0       \n",
      "            0x194C     0xC   Reserved:                      0x0       \n",
      "\n",
      "  Id: [0x18] (RT_MANIFEST)\n",
      "  [IMAGE_RESOURCE_DIRECTORY_ENTRY]\n",
      "  0x1828     0x0   Name:                          0x18      \n",
      "  0x182C     0x4   OffsetToData:                  0x80000080\n",
      "    [IMAGE_RESOURCE_DIRECTORY]\n",
      "    0x1880     0x0   Characteristics:               0x0       \n",
      "    0x1884     0x4   TimeDateStamp:                 0x0        [Thu Jan  1 00:00:00 1970 UTC]\n",
      "    0x1888     0x8   MajorVersion:                  0x0       \n",
      "    0x188A     0xA   MinorVersion:                  0x0       \n",
      "    0x188C     0xC   NumberOfNamedEntries:          0x0       \n",
      "    0x188E     0xE   NumberOfIdEntries:             0x1       \n",
      "      Id: [0x1]\n",
      "      [IMAGE_RESOURCE_DIRECTORY_ENTRY]\n",
      "      0x1890     0x0   Name:                          0x1       \n",
      "      0x1894     0x4   OffsetToData:                  0x800000F8\n",
      "        [IMAGE_RESOURCE_DIRECTORY]\n",
      "        0x18F8     0x0   Characteristics:               0x0       \n",
      "        0x18FC     0x4   TimeDateStamp:                 0x0        [Thu Jan  1 00:00:00 1970 UTC]\n",
      "        0x1900     0x8   MajorVersion:                  0x0       \n",
      "        0x1902     0xA   MinorVersion:                  0x0       \n",
      "        0x1904     0xC   NumberOfNamedEntries:          0x0       \n",
      "        0x1906     0xE   NumberOfIdEntries:             0x1       \n",
      "        \\--- LANG [9,1][LANG_ENGLISH,SUBLANG_ENGLISH_US]\n",
      "          [IMAGE_RESOURCE_DIRECTORY_ENTRY]\n",
      "          0x1908     0x0   Name:                          0x409     \n",
      "          0x190C     0x4   OffsetToData:                  0x150     \n",
      "            [IMAGE_RESOURCE_DATA_ENTRY]\n",
      "            0x1950     0x0   OffsetToData:                  0x4160    \n",
      "            0x1954     0x4   Size:                          0x492     \n",
      "            0x1958     0x8   CodePage:                      0x0       \n",
      "            0x195C     0xC   Reserved:                      0x0       \n",
      "\n",
      "\n",
      "----------Debug information----------\n",
      "\n",
      "[IMAGE_DEBUG_DIRECTORY]\n",
      "0x550      0x0   Characteristics:               0x0       \n",
      "0x554      0x4   TimeDateStamp:                 0x4A5BC9AC [Mon Jul 13 23:56:28 2009 UTC]\n",
      "0x558      0x8   MajorVersion:                  0x0       \n",
      "0x55A      0xA   MinorVersion:                  0x0       \n",
      "0x55C      0xC   Type:                          0x2       \n",
      "0x560      0x10  SizeOfData:                    0x22      \n",
      "0x564      0x14  AddressOfRawData:              0x1198    \n",
      "0x568      0x18  PointerToRawData:              0x598     \n",
      "Type: IMAGE_DEBUG_TYPE_CODEVIEW\n",
      "\n",
      "    [CV_INFO_PDB70]\n",
      "    0x598      0x0   CvSignature:                   0x53445352\n",
      "    0x59C      0x4   Signature_Data1:               4FD8CA66\n",
      "    0x5A0      0x8   Signature_Data2:               96F4    \n",
      "    0x5A2      0xA   Signature_Data3:               45A7    \n",
      "    0x5A4      0xC   Signature_Data4:               B969AB9BBD76E459\n",
      "    0x5AC      0x14  Age:                           0x1       \n",
      "    0x5B0      0x18  PdbFileName:                   write.pdb\n",
      "\n",
      "----------Base relocations----------\n",
      "\n",
      "[IMAGE_BASE_RELOCATION]\n",
      "0x2600     0x0   VirtualAddress:                0x1000    \n",
      "0x2604     0x4   SizeOfBlock:                   0x14      \n",
      "    00001118h DIR64\n",
      "    00001130h DIR64\n",
      "    00001138h DIR64\n",
      "    00001170h DIR64\n",
      "    00001178h DIR64\n",
      "    00001000h ABSOLUTE\n",
      "\n",
      "\n"
     ]
    }
   ],
   "source": [
    "pe.print_info()"
   ]
  },
  {
   "cell_type": "code",
   "execution_count": 10,
   "metadata": {},
   "outputs": [
    {
     "data": {
      "text/plain": [
       "{'Structure': 'IMAGE_DOS_HEADER',\n",
       " 'e_magic': {'FileOffset': 0, 'Offset': 0, 'Value': 23117},\n",
       " 'e_cblp': {'FileOffset': 2, 'Offset': 2, 'Value': 144},\n",
       " 'e_cp': {'FileOffset': 4, 'Offset': 4, 'Value': 3},\n",
       " 'e_crlc': {'FileOffset': 6, 'Offset': 6, 'Value': 0},\n",
       " 'e_cparhdr': {'FileOffset': 8, 'Offset': 8, 'Value': 4},\n",
       " 'e_minalloc': {'FileOffset': 10, 'Offset': 10, 'Value': 0},\n",
       " 'e_maxalloc': {'FileOffset': 12, 'Offset': 12, 'Value': 65535},\n",
       " 'e_ss': {'FileOffset': 14, 'Offset': 14, 'Value': 0},\n",
       " 'e_sp': {'FileOffset': 16, 'Offset': 16, 'Value': 184},\n",
       " 'e_csum': {'FileOffset': 18, 'Offset': 18, 'Value': 0},\n",
       " 'e_ip': {'FileOffset': 20, 'Offset': 20, 'Value': 0},\n",
       " 'e_cs': {'FileOffset': 22, 'Offset': 22, 'Value': 0},\n",
       " 'e_lfarlc': {'FileOffset': 24, 'Offset': 24, 'Value': 64},\n",
       " 'e_ovno': {'FileOffset': 26, 'Offset': 26, 'Value': 0},\n",
       " 'e_res': {'FileOffset': 28,\n",
       "  'Offset': 28,\n",
       "  'Value': '\\\\x00\\\\x00\\\\x00\\\\x00\\\\x00\\\\x00\\\\x00\\\\x00'},\n",
       " 'e_oemid': {'FileOffset': 36, 'Offset': 36, 'Value': 0},\n",
       " 'e_oeminfo': {'FileOffset': 38, 'Offset': 38, 'Value': 0},\n",
       " 'e_res2': {'FileOffset': 40,\n",
       "  'Offset': 40,\n",
       "  'Value': '\\\\x00\\\\x00\\\\x00\\\\x00\\\\x00\\\\x00\\\\x00\\\\x00\\\\x00\\\\x00\\\\x00\\\\x00\\\\x00\\\\x00\\\\x00\\\\x00\\\\x00\\\\x00\\\\x00\\\\x00'},\n",
       " 'e_lfanew': {'FileOffset': 60, 'Offset': 60, 'Value': 224}}"
      ]
     },
     "execution_count": 10,
     "metadata": {},
     "output_type": "execute_result"
    }
   ],
   "source": [
    "pe.DOS_HEADER.dump_dict()"
   ]
  },
  {
   "cell_type": "markdown",
   "metadata": {},
   "source": [
    "#### DOS Header"
   ]
  },
  {
   "cell_type": "markdown",
   "metadata": {},
   "source": [
    "Get the offset of the beginning of the PE / NT header"
   ]
  },
  {
   "cell_type": "code",
   "execution_count": 11,
   "metadata": {},
   "outputs": [
    {
     "data": {
      "text/plain": [
       "224"
      ]
     },
     "execution_count": 11,
     "metadata": {},
     "output_type": "execute_result"
    }
   ],
   "source": [
    "pe.DOS_HEADER.e_lfanew"
   ]
  },
  {
   "cell_type": "markdown",
   "metadata": {},
   "source": [
    "#### PE Header"
   ]
  },
  {
   "cell_type": "code",
   "execution_count": 12,
   "metadata": {},
   "outputs": [
    {
     "name": "stdout",
     "output_type": "stream",
     "text": [
      "b'PE\\x00\\x00'\n"
     ]
    }
   ],
   "source": [
    "with open(pe_path, \"rb\") as f_in:\n",
    "    f_in.seek(224,  0)\n",
    "\n",
    "    # Read 4 bytes at offset 224\n",
    "    print(f_in.read(4))"
   ]
  },
  {
   "cell_type": "code",
   "execution_count": 13,
   "metadata": {},
   "outputs": [
    {
     "data": {
      "text/plain": [
       "{'Structure': 'IMAGE_NT_HEADERS',\n",
       " 'Signature': {'FileOffset': 224, 'Offset': 0, 'Value': 17744}}"
      ]
     },
     "execution_count": 13,
     "metadata": {},
     "output_type": "execute_result"
    }
   ],
   "source": [
    "pe.NT_HEADERS.dump_dict()"
   ]
  },
  {
   "cell_type": "markdown",
   "metadata": {},
   "source": [
    "### File entropy"
   ]
  },
  {
   "cell_type": "code",
   "execution_count": 14,
   "metadata": {},
   "outputs": [
    {
     "name": "stdout",
     "output_type": "stream",
     "text": [
      "b'.text\\x00\\x00\\x00'\n",
      ".text\u0000\u0000\u0000\n",
      "5.628278408859956\n",
      "b'.data\\x00\\x00\\x00'\n",
      ".data\u0000\u0000\u0000\n",
      "0.41910331703210524\n",
      "b'.pdata\\x00\\x00'\n",
      ".pdata\u0000\u0000\n",
      "1.4429701827001036\n",
      "b'.rsrc\\x00\\x00\\x00'\n",
      ".rsrc\u0000\u0000\u0000\n",
      "4.620038574863405\n",
      "b'.reloc\\x00\\x00'\n",
      ".reloc\u0000\u0000\n",
      "0.22167620545804623\n"
     ]
    }
   ],
   "source": [
    "name_list = list()\n",
    "entropy_list = list()\n",
    "\n",
    "for section in pe.sections:\n",
    "    print(section.Name)\n",
    "    print(section.Name.decode())\n",
    "    name_list.append(section.Name.decode())\n",
    "    print(section.get_entropy())\n",
    "    entropy_list.append(section.get_entropy())"
   ]
  },
  {
   "cell_type": "code",
   "execution_count": 15,
   "metadata": {},
   "outputs": [
    {
     "data": {
      "text/plain": [
       "<matplotlib.axes._subplots.AxesSubplot at 0x1a1f7c7590>"
      ]
     },
     "execution_count": 15,
     "metadata": {},
     "output_type": "execute_result"
    },
    {
     "name": "stderr",
     "output_type": "stream",
     "text": [
      "/anaconda3/lib/python3.7/site-packages/matplotlib/backends/backend_agg.py:211: RuntimeWarning: Glyph 0 missing from current font.\n",
      "  font.set_text(s, 0.0, flags=flags)\n",
      "/anaconda3/lib/python3.7/site-packages/matplotlib/backends/backend_agg.py:180: RuntimeWarning: Glyph 0 missing from current font.\n",
      "  font.set_text(s, 0, flags=flags)\n"
     ]
    },
    {
     "data": {
      "image/png": "[encoded data removed]",
      "text/plain": [
       "<Figure size 432x288 with 1 Axes>"
      ]
     },
     "metadata": {
      "image/png": {
       "height": 248,
       "width": 362
      },
      "needs_background": "light"
     },
     "output_type": "display_data"
    }
   ],
   "source": [
    "sns.barplot(x=name_list, y=entropy_list, palette=\"deep\")"
   ]
  },
  {
   "cell_type": "markdown",
   "metadata": {},
   "source": [
    "### Rich Header"
   ]
  },
  {
   "cell_type": "code",
   "execution_count": 16,
   "metadata": {},
   "outputs": [
    {
     "data": {
      "text/plain": [
       "b\":\\x88\\xc0\\x1c~\\xe9\\xaeO~\\xe9\\xaeO~\\xe9\\xaeOw\\x91*O\\x7f\\xe9\\xaeOw\\x91;O\\x7f\\xe9\\xaeO~\\xe9\\xafO]\\xe9\\xaeOw\\x91=Oy\\xe9\\xaeOw\\x91-On\\xe9\\xaeOw\\x91'O\\x7f\\xe9\\xaeOw\\x91:O\\x7f\\xe9\\xaeOw\\x91?O\\x7f\\xe9\\xaeO\""
      ]
     },
     "execution_count": 16,
     "metadata": {},
     "output_type": "execute_result"
    }
   ],
   "source": [
    "pe.RICH_HEADER.raw_data"
   ]
  },
  {
   "cell_type": "markdown",
   "metadata": {},
   "source": [
    "### Imphash"
   ]
  },
  {
   "cell_type": "code",
   "execution_count": 17,
   "metadata": {},
   "outputs": [
    {
     "data": {
      "text/plain": [
       "'8ae4743c15eb8e9b302a857e3ce73d5e'"
      ]
     },
     "execution_count": 17,
     "metadata": {},
     "output_type": "execute_result"
    }
   ],
   "source": [
    "pe.get_imphash()"
   ]
  },
  {
   "cell_type": "markdown",
   "metadata": {},
   "source": [
    "From /anaconda3/lib/python3.7/site-packages/pefile.py\n",
    "\n",
    "```python\n",
    "def get_imphash(self):\n",
    "    impstrs = []\n",
    "    exts = ['ocx', 'sys', 'dll']\n",
    "    if not hasattr(self, \"DIRECTORY_ENTRY_IMPORT\"):\n",
    "        return \"\"\n",
    "    for entry in self.DIRECTORY_ENTRY_IMPORT:\n",
    "        if isinstance(entry.dll, bytes):\n",
    "            libname = entry.dll.decode().lower()\n",
    "        else:\n",
    "            libname = entry.dll.lower()\n",
    "        parts = libname.rsplit('.', 1)\n",
    "\n",
    "        if len(parts) > 1 and parts[1] in exts:\n",
    "            libname = parts[0]\n",
    "\n",
    "        for imp in entry.imports:\n",
    "            funcname = None\n",
    "            if not imp.name:\n",
    "                funcname = ordlookup.ordLookup(entry.dll.lower(), imp.ordinal, make_name=True)\n",
    "                if not funcname:\n",
    "                    raise Exception(\"Unable to look up ordinal %s:%04x\" % (entry.dll, imp.ordinal))\n",
    "            else:\n",
    "                funcname = imp.name\n",
    "\n",
    "            if not funcname:\n",
    "                continue\n",
    "\n",
    "            if isinstance(funcname, bytes):\n",
    "                funcname = funcname.decode()\n",
    "            impstrs.append('%s.%s' % (libname.lower(),funcname.lower()))\n",
    "\n",
    "    return md5( ','.join( impstrs ).encode() ).hexdigest()\n",
    "```"
   ]
  },
  {
   "cell_type": "markdown",
   "metadata": {},
   "source": [
    "### Let's copy the code and use it to print the imported functions"
   ]
  },
  {
   "cell_type": "code",
   "execution_count": 19,
   "metadata": {},
   "outputs": [
    {
     "name": "stdout",
     "output_type": "stream",
     "text": [
      "shell32 shellexecutew\n",
      "kernel32 rtlcapturecontext\n",
      "kernel32 setunhandledexceptionfilter\n",
      "kernel32 getstartupinfow\n",
      "kernel32 heapsetinformation\n",
      "kernel32 rtllookupfunctionentry\n",
      "kernel32 rtlvirtualunwind\n",
      "kernel32 unhandledexceptionfilter\n",
      "kernel32 getcurrentprocess\n",
      "kernel32 terminateprocess\n",
      "kernel32 getsystemtimeasfiletime\n",
      "kernel32 getcurrentprocessid\n",
      "kernel32 getcurrentthreadid\n",
      "kernel32 gettickcount\n",
      "kernel32 queryperformancecounter\n",
      "kernel32 getmodulehandlew\n",
      "kernel32 sleep\n",
      "msvcrt ?terminate@@yaxxz\n",
      "msvcrt __set_app_type\n",
      "msvcrt _fmode\n",
      "msvcrt _commode\n",
      "msvcrt __setusermatherr\n",
      "msvcrt _amsg_exit\n",
      "msvcrt _initterm\n",
      "msvcrt _wcmdln\n",
      "msvcrt exit\n",
      "msvcrt _cexit\n",
      "msvcrt _exit\n",
      "msvcrt _xcptfilter\n",
      "msvcrt __c_specific_handler\n",
      "msvcrt __wgetmainargs\n"
     ]
    }
   ],
   "source": [
    "impstrs = []\n",
    "exts = ['ocx', 'sys', 'dll']\n",
    "if hasattr(pe, \"DIRECTORY_ENTRY_IMPORT\"):\n",
    "    for entry in pe.DIRECTORY_ENTRY_IMPORT:\n",
    "        if isinstance(entry.dll, bytes):\n",
    "            libname = entry.dll.decode().lower()\n",
    "        else:\n",
    "            libname = entry.dll.lower()\n",
    "        parts = libname.rsplit('.', 1)\n",
    "\n",
    "        if len(parts) > 1 and parts[1] in exts:\n",
    "            libname = parts[0]\n",
    "\n",
    "        for imp in entry.imports:\n",
    "            funcname = None\n",
    "            if not imp.name:\n",
    "                funcname = ordlookup.ordLookup(entry.dll.lower(), imp.ordinal, make_name=True)\n",
    "                if not funcname:\n",
    "                    raise Exception(\"Unable to look up ordinal %s:%04x\" % (entry.dll, imp.ordinal))\n",
    "            else:\n",
    "                funcname = imp.name\n",
    "\n",
    "            if not funcname:\n",
    "                continue\n",
    "\n",
    "            if isinstance(funcname, bytes):\n",
    "                funcname = funcname.decode()\n",
    "\n",
    "            print(libname.lower(), funcname.lower())"
   ]
  },
  {
   "cell_type": "markdown",
   "metadata": {},
   "source": [
    "### Packers"
   ]
  },
  {
   "cell_type": "code",
   "execution_count": 20,
   "metadata": {},
   "outputs": [],
   "source": [
    "pe_path = \"../packer_example/write.exe\"\n",
    "pe = pefile.PE(pe_path)"
   ]
  },
  {
   "cell_type": "code",
   "execution_count": 21,
   "metadata": {},
   "outputs": [
    {
     "data": {
      "text/plain": [
       "5540"
      ]
     },
     "execution_count": 21,
     "metadata": {},
     "output_type": "execute_result"
    }
   ],
   "source": [
    "pe.OPTIONAL_HEADER.AddressOfEntryPoint"
   ]
  },
  {
   "cell_type": "code",
   "execution_count": 22,
   "metadata": {},
   "outputs": [
    {
     "name": "stdout",
     "output_type": "stream",
     "text": [
      "Name                    Entropy        SizeOfRawData          VirtualSize       VirtualAddress\n",
      ".text                  5.628278                 4096                 3780                 4096\n",
      ".data                  0.419103                  512                 1784                 8192\n",
      ".pdata                 1.442970                  512                  168                12288\n",
      ".rsrc                  4.620039                 3584                 3496                16384\n",
      ".reloc                 0.221676                  512                   56                20480\n"
     ]
    }
   ],
   "source": [
    "print(\"%-10s %20s %20s %20s %20s\" % (\"Name\", \"Entropy\", \"SizeOfRawData\", \"VirtualSize\", \"VirtualAddress\"))\n",
    "for section in pe.sections:\n",
    "    print(\"%-10s %20f %20d %20d %20d\" % (section.Name.decode().replace(\"\\x00\", \"\"),\n",
    "                                         section.get_entropy(),\n",
    "                                         section.SizeOfRawData,\n",
    "                                         section.Misc_VirtualSize,\n",
    "                                         section.VirtualAddress))"
   ]
  },
  {
   "cell_type": "code",
   "execution_count": 23,
   "metadata": {},
   "outputs": [],
   "source": [
    "pe_packed_path = \"../packer_example/write_packed.exe\"\n",
    "pe_packed = pefile.PE(pe_packed_path)"
   ]
  },
  {
   "cell_type": "code",
   "execution_count": 24,
   "metadata": {},
   "outputs": [
    {
     "data": {
      "text/plain": [
       "31648"
      ]
     },
     "execution_count": 24,
     "metadata": {},
     "output_type": "execute_result"
    }
   ],
   "source": [
    "pe_packed.OPTIONAL_HEADER.AddressOfEntryPoint"
   ]
  },
  {
   "cell_type": "code",
   "execution_count": 25,
   "metadata": {},
   "outputs": [
    {
     "name": "stdout",
     "output_type": "stream",
     "text": [
      "Name                    Entropy        SizeOfRawData          VirtualSize       VirtualAddress\n",
      "UPX0                   0.000000                    0                24576                 4096\n",
      "UPX1                   7.265725                 3584                 4096                28672\n",
      ".rsrc                  4.438244                 4096                 4096                32768\n"
     ]
    }
   ],
   "source": [
    "print(\"%-10s %20s %20s %20s %20s\" % (\"Name\", \"Entropy\", \"SizeOfRawData\", \"VirtualSize\", \"VirtualAddress\"))\n",
    "for section in pe_packed.sections:\n",
    "    print(\"%-10s %20f %20d %20d %20d\" % (section.Name.decode().replace(\"\\x00\", \"\"),\n",
    "                                         section.get_entropy(),\n",
    "                                         section.SizeOfRawData,\n",
    "                                         section.Misc_VirtualSize,\n",
    "                                         section.VirtualAddress))"
   ]
  },
  {
   "cell_type": "code",
   "execution_count": 26,
   "metadata": {},
   "outputs": [
    {
     "name": "stdout",
     "output_type": "stream",
     "text": [
      "8ae4743c15eb8e9b302a857e3ce73d5e\n",
      "da1acc8b5b8903006a08949734f9ed73\n"
     ]
    }
   ],
   "source": [
    "print(pe.get_imphash())\n",
    "print(pe_packed.get_imphash())"
   ]
  }
 ],
 "metadata": {
  "kernelspec": {
   "display_name": "Python 3",
   "language": "python",
   "name": "python3"
  },
  "language_info": {
   "codemirror_mode": {
    "name": "ipython",
    "version": 3
   },
   "file_extension": ".py",
   "mimetype": "text/x-python",
   "name": "python",
   "nbconvert_exporter": "python",
   "pygments_lexer": "ipython3",
   "version": "3.7.4"
  }
 },
 "nbformat": 4,
 "nbformat_minor": 2
}
